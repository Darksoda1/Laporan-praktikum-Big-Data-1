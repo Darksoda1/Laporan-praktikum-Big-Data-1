{
 "cells": [
  {
   "cell_type": "markdown",
   "id": "10c25d6f",
   "metadata": {
    "id": "10c25d6f"
   },
   "source": [
    "# Hands-On Pertemuan 1: Pengenalan Big Data dan Overview Teknologi"
   ]
  },
  {
   "cell_type": "markdown",
   "id": "SYxfu2BPWLWU",
   "metadata": {
    "id": "SYxfu2BPWLWU"
   },
   "source": [
    "Hands-on dalam big data adalah metode pembelajaran yang menekankan pengalaman langsung dalam menangani data berukuran besar. Hands-on mencakup serangkaian kegiatan seperti mengumpulkan data dari berbagai sumber, membersihkannya untuk memastikan kualitas dan konsistensi, serta mengolah, memanipulasi, dan menganalisis data tersebut menggunakan alat dan teknologi khusus seperti Hadoop, Spark, atau database NoSQL. Selain itu, hands-on juga melibatkan pembuatan visualisasi data untuk memudahkan pemahaman dan penyajian hasil analisis."
   ]
  },
  {
   "cell_type": "markdown",
   "id": "8daa78a0",
   "metadata": {
    "id": "8daa78a0"
   },
   "source": [
    "## Langkah-Langkah Hands-On"
   ]
  },
  {
   "cell_type": "markdown",
   "id": "23b963c0",
   "metadata": {
    "id": "23b963c0"
   },
   "source": [
    "### 1. Instalasi Anaconda\n",
    "- **Langkah 1: Unduh dan Instal Anaconda**\n",
    "  Anaconda adalah platform distribusi Python yang menyertakan berbagai alat pengembangan, termasuk Jupyter Notebook. Ikuti langkah-langkah instalasi sesuai sistem operasi:\n",
    "  - Unduh Anaconda: [Download Anaconda](https://www.anaconda.com/products/individual)\n",
    "  - Instal sesuai instruksi yang ada di situs web tersebut (Windows/Mac/Linux).\n",
    "\n",
    "- **Langkah 2: Menginstal PySpark di Anaconda**\n",
    "  Setelah Anaconda terinstal, tambahkan PySpark:\n",
    "  ```bash\n",
    "  pip install pyspark==3.4.1\n",
    "  ```\n",
    "\n",
    "- **Langkah 3: Menginstal Pandas**\n",
    "  Untuk memudahkan data analysis, install Pandas:\n",
    "  ```bash\n",
    "  pip install pandas\n",
    "  ```\n",
    "\n",
    "- **Langkah 4: Menginstal Findspark**\n",
    "  ```bash\n",
    "  pip install findspark\n",
    "  ```"
   ]
  },
  {
   "cell_type": "markdown",
   "id": "208f1a45",
   "metadata": {
    "id": "208f1a45",
    "jp-MarkdownHeadingCollapsed": true
   },
   "source": [
    "### 2. Pengenalan dan Praktik Dasar PySpark dan Pandas\n",
    "- **Langkah 1: Membuka Jupyter Notebook**\n",
    "  Setelah instalasi selesai, buka Jupyter Notebook melalui Anaconda Navigator atau melalui terminal dengan perintah:\n",
    "  ```bash\n",
    "  jupyter notebook\n",
    "  ```\n",
    "\n",
    "- **Langkah 2: Membuat Project Notebook Baru**\n",
    "  Di Jupyter Notebook, buat notebook baru untuk praktikum ini.\n",
    "\n",
    "- **Langkah 3: Praktik dengan PySpark**\n",
    "  Buat program sederhana untuk memulai dengan PySpark. Gunakan PySpark untuk membuat DataFrame dan memanipulasi data sederhana:"
   ]
  },
  {
   "cell_type": "markdown",
   "id": "xubTg_mDWaPu",
   "metadata": {
    "id": "xubTg_mDWaPu"
   },
   "source": [
    "# Praktik Dasar PySpark dan Pandas\n",
    "**Program Dasar PySpark**"
   ]
  },
  {
   "cell_type": "code",
   "execution_count": 3,
   "id": "KERSZShIH_aN",
   "metadata": {
    "colab": {
     "base_uri": "https://localhost:8080/",
     "height": 331
    },
    "id": "KERSZShIH_aN",
    "outputId": "dc5d0910-d34a-4ec9-f7f9-8913f0441d89"
   },
   "outputs": [],
   "source": [
    "import findspark\n",
    "findspark.init()"
   ]
  },
  {
   "cell_type": "code",
   "execution_count": 4,
   "id": "f78a5053",
   "metadata": {
    "id": "f78a5053"
   },
   "outputs": [
    {
     "name": "stdout",
     "output_type": "stream",
     "text": [
      "Data Karyawan X: \n",
      "+------+----+\n",
      "|  Nama|Usia|\n",
      "+------+----+\n",
      "|   Ali|  34|\n",
      "|Khalid|  23|\n",
      "|Aisyah|  29|\n",
      "|  Suci|  30|\n",
      "+------+----+\n",
      "\n"
     ]
    }
   ],
   "source": [
    "from pyspark.sql import SparkSession\n",
    "\n",
    "# Memulai Spark session\n",
    "spark = SparkSession.builder.appName(\"Karyawan X\").getOrCreate()\n",
    "\n",
    "# Membuat DataFrame sederhana\n",
    "Karyawan = [(\"Ali\", 34), (\"Khalid\", 23), (\"Aisyah\", 29), (\"Suci\", 30)]\n",
    "kolom = [\"Nama\", \"Usia\"]\n",
    "df_karyawan = spark.createDataFrame(Karyawan, kolom)\n",
    "\n",
    "# Menampilkan DataFrame\n",
    "print(\"Data Karyawan X: \")\n",
    "df_karyawan.show()"
   ]
  },
  {
   "cell_type": "markdown",
   "id": "8747276f",
   "metadata": {
    "id": "8747276f"
   },
   "source": [
    "- **Tugas 1**: Jalankan kode di atas dan buat modifikasi dengan menambahkan data lain berupa kolom pekerjaan, hobi dan gender."
   ]
  },
  {
   "cell_type": "code",
   "execution_count": 5,
   "id": "aacS3QR7XYuU",
   "metadata": {
    "id": "aacS3QR7XYuU"
   },
   "outputs": [
    {
     "name": "stdout",
     "output_type": "stream",
     "text": [
      "Data Karyawan X:\n",
      "+------+----+--------------+---------+---------+\n",
      "|  Nama|Usia|     Pekerjaan|     Hobi|   Gender|\n",
      "+------+----+--------------+---------+---------+\n",
      "|   Ali|  34|      Engineer|Bersepeda|Laki-laki|\n",
      "|Khalid|  23|Data Scientist|  Memasak|Laki-laki|\n",
      "|Aisyah|  29|      Designer|  Melukis|Perempuan|\n",
      "|  Suci|  30|        Dokter|  Membaca|Perempuan|\n",
      "+------+----+--------------+---------+---------+\n",
      "\n"
     ]
    }
   ],
   "source": [
    "import findspark\n",
    "findspark.init()\n",
    "from pyspark.sql import SparkSession\n",
    "\n",
    "# Memulai Spark session\n",
    "spark = SparkSession.builder.appName(\"KaryawanX\").getOrCreate()\n",
    "\n",
    "# Membuat DataFrame dengan data dan kolom tambahan\n",
    "Karyawan = [(\"Ali\", 34, \"Engineer\", \"Bersepeda\", \"Laki-laki\"),\n",
    "        (\"Khalid\", 23, \"Data Scientist\", \"Memasak\", \"Laki-laki\"),\n",
    "        (\"Aisyah\", 29, \"Designer\", \"Melukis\", \"Perempuan\"),\n",
    "        (\"Suci\", 30, \"Dokter\", \"Membaca\", \"Perempuan\")]\n",
    "\n",
    "# Menambahkan kolom sesuai dengan data\n",
    "kolom = [\"Nama\", \"Usia\", \"Pekerjaan\", \"Hobi\", \"Gender\"]\n",
    "\n",
    "# Membuat DataFrame\n",
    "df_karyawan = spark.createDataFrame(Karyawan, kolom)\n",
    "\n",
    "# Menampilkan DataFrame\n",
    "print(\"Data Karyawan X:\")\n",
    "df_karyawan.show()\n",
    "\n"
   ]
  },
  {
   "cell_type": "markdown",
   "id": "AIFBGJvPYehh",
   "metadata": {
    "id": "AIFBGJvPYehh"
   },
   "source": [
    "## 3. Praktik PySpark Lanjutan\n",
    "**Memanipulasi Data menggunakan PySpark**"
   ]
  },
  {
   "cell_type": "markdown",
   "id": "e06767bc",
   "metadata": {
    "id": "e06767bc"
   },
   "source": [
    "- **Tugas 2**: Lakukan filter, penghitungan rata-rata, dan pengurutan data menggunakan PySpark."
   ]
  },
  {
   "cell_type": "code",
   "execution_count": 6,
   "id": "1f391ed5",
   "metadata": {
    "id": "1f391ed5"
   },
   "outputs": [
    {
     "name": "stdout",
     "output_type": "stream",
     "text": [
      "Data Karyawan X\n",
      "+------+----+--------------+---------+---------+\n",
      "|  Nama|Usia|     Pekerjaan|     Hobi|   Gender|\n",
      "+------+----+--------------+---------+---------+\n",
      "|   Ali|  34|      Engineer|Bersepeda|Laki-laki|\n",
      "|Khalid|  23|Data Scientist|  Memasak|Laki-laki|\n",
      "|Aisyah|  29|      Designer|  Melukis|Perempuan|\n",
      "|  Suci|  30|        Dokter|  Membaca|Perempuan|\n",
      "+------+----+--------------+---------+---------+\n",
      "\n",
      "Karyawan yang berumur diatas 25 tahun: \n",
      "+------+----+---------+---------+---------+\n",
      "|  Nama|Usia|Pekerjaan|     Hobi|   Gender|\n",
      "+------+----+---------+---------+---------+\n",
      "|   Ali|  34| Engineer|Bersepeda|Laki-laki|\n",
      "|Aisyah|  29| Designer|  Melukis|Perempuan|\n",
      "|  Suci|  30|   Dokter|  Membaca|Perempuan|\n",
      "+------+----+---------+---------+---------+\n",
      "\n",
      "Rata-rata usia Karyawan X: \n",
      "+---------+\n",
      "|avg(Usia)|\n",
      "+---------+\n",
      "|     29.0|\n",
      "+---------+\n",
      "\n",
      "Urutan mahasiswa berdasarkan usia: \n",
      "+------+----+--------------+---------+---------+\n",
      "|  Nama|Usia|     Pekerjaan|     Hobi|   Gender|\n",
      "+------+----+--------------+---------+---------+\n",
      "|Khalid|  23|Data Scientist|  Memasak|Laki-laki|\n",
      "|Aisyah|  29|      Designer|  Melukis|Perempuan|\n",
      "|  Suci|  30|        Dokter|  Membaca|Perempuan|\n",
      "|   Ali|  34|      Engineer|Bersepeda|Laki-laki|\n",
      "+------+----+--------------+---------+---------+\n",
      "\n"
     ]
    }
   ],
   "source": [
    "from pyspark.sql import SparkSession\n",
    "\n",
    "# Memulai Spark session\n",
    "spark = SparkSession.builder.appName(\"Karyawan X\").getOrCreate()\n",
    "\n",
    "# Membuat DataFrame sederhana\n",
    "Karyawan = [(\"Ali\", 34, \"Engineer\", \"Bersepeda\", \"Laki-laki\"),\n",
    "        (\"Khalid\", 23, \"Data Scientist\", \"Memasak\", \"Laki-laki\"),\n",
    "        (\"Aisyah\", 29, \"Designer\", \"Melukis\", \"Perempuan\"),\n",
    "        (\"Suci\", 30, \"Dokter\", \"Membaca\", \"Perempuan\")]\n",
    "kolom = [\"Nama\", \"Usia\", \"Pekerjaan\", \"Hobi\", \"Gender\"]\n",
    "df = spark.createDataFrame(Karyawan, kolom)\n",
    "\n",
    "# Menampilkan DataFrame\n",
    "print(\"Data Karyawan X\")\n",
    "df.show()\n",
    "\n",
    "# Filtering data\n",
    "df_filtered = df.filter(df['Usia'] > 25)\n",
    "print(\"Karyawan yang berumur diatas 25 tahun: \")\n",
    "df_filtered.show()\n",
    "\n",
    "# Menghitung rata-rata usia\n",
    "from pyspark.sql.functions import avg\n",
    "print(\"Rata-rata usia Karyawan X: \")\n",
    "df.groupBy().agg(avg(\"Usia\")).show()\n",
    "\n",
    "# Mengurutkan data berdasarkan usia\n",
    "df_sorted = df.orderBy(\"Usia\", ascending=True)\n",
    "print(\"Urutan mahasiswa berdasarkan usia: \")\n",
    "df_sorted.show()"
   ]
  },
  {
   "cell_type": "markdown",
   "id": "fe1e34a5",
   "metadata": {
    "id": "fe1e34a5"
   },
   "source": [
    "## 4. Praktik dengan Pandas\n",
    "**Membuat DataFrame menggunakan Pandas**"
   ]
  },
  {
   "cell_type": "code",
   "execution_count": 7,
   "id": "3f1f2ec1",
   "metadata": {
    "id": "3f1f2ec1"
   },
   "outputs": [
    {
     "data": {
      "text/html": [
       "<div>\n",
       "<style scoped>\n",
       "    .dataframe tbody tr th:only-of-type {\n",
       "        vertical-align: middle;\n",
       "    }\n",
       "\n",
       "    .dataframe tbody tr th {\n",
       "        vertical-align: top;\n",
       "    }\n",
       "\n",
       "    .dataframe thead th {\n",
       "        text-align: right;\n",
       "    }\n",
       "</style>\n",
       "<table border=\"1\" class=\"dataframe\">\n",
       "  <thead>\n",
       "    <tr style=\"text-align: right;\">\n",
       "      <th></th>\n",
       "      <th>Nama</th>\n",
       "      <th>Usia</th>\n",
       "    </tr>\n",
       "  </thead>\n",
       "  <tbody>\n",
       "    <tr>\n",
       "      <th>0</th>\n",
       "      <td>Ali</td>\n",
       "      <td>34</td>\n",
       "    </tr>\n",
       "    <tr>\n",
       "      <th>1</th>\n",
       "      <td>Khalid</td>\n",
       "      <td>23</td>\n",
       "    </tr>\n",
       "    <tr>\n",
       "      <th>2</th>\n",
       "      <td>Citra</td>\n",
       "      <td>29</td>\n",
       "    </tr>\n",
       "    <tr>\n",
       "      <th>3</th>\n",
       "      <td>Dina</td>\n",
       "      <td>30</td>\n",
       "    </tr>\n",
       "  </tbody>\n",
       "</table>\n",
       "</div>"
      ],
      "text/plain": [
       "     Nama  Usia\n",
       "0     Ali    34\n",
       "1  Khalid    23\n",
       "2   Citra    29\n",
       "3    Dina    30"
      ]
     },
     "execution_count": 7,
     "metadata": {},
     "output_type": "execute_result"
    }
   ],
   "source": [
    "import pandas as pd\n",
    "\n",
    "# Membuat DataFrame Pandas\n",
    "data_pandas = {\"Nama\": [\"Ali\", \"Khalid\", \"Citra\", \"Dina\"], \"Usia\": [34, 23, 29, 30]}\n",
    "df_pandas = pd.DataFrame(data_pandas)\n",
    "\n",
    "# Menampilkan DataFrame Pandas\n",
    "df_pandas"
   ]
  },
  {
   "cell_type": "markdown",
   "id": "9da455f1",
   "metadata": {
    "id": "9da455f1"
   },
   "source": [
    "- **Tugas 3**: Modifikasi DataFrame Pandas dengan menambahkan kolom baru dan melakukan operasi seperti filtering data berdasarkan usia."
   ]
  },
  {
   "cell_type": "code",
   "execution_count": 8,
   "id": "_oYBMcP9czB_",
   "metadata": {
    "id": "_oYBMcP9czB_"
   },
   "outputs": [
    {
     "name": "stdout",
     "output_type": "stream",
     "text": [
      "Karyawan berumur diatas 25 tahun: \n",
      "     Nama  Usia Pekerjaan     Gender\n",
      "0     Ali    34  Engineer  Laki-laki\n",
      "2  Aisyah    29  Designer  Perempuan\n",
      "3    Suci    30    Dokter  Perempuan\n"
     ]
    },
    {
     "data": {
      "text/html": [
       "<div>\n",
       "<style scoped>\n",
       "    .dataframe tbody tr th:only-of-type {\n",
       "        vertical-align: middle;\n",
       "    }\n",
       "\n",
       "    .dataframe tbody tr th {\n",
       "        vertical-align: top;\n",
       "    }\n",
       "\n",
       "    .dataframe thead th {\n",
       "        text-align: right;\n",
       "    }\n",
       "</style>\n",
       "<table border=\"1\" class=\"dataframe\">\n",
       "  <thead>\n",
       "    <tr style=\"text-align: right;\">\n",
       "      <th></th>\n",
       "      <th>Nama</th>\n",
       "      <th>Usia</th>\n",
       "      <th>Pekerjaan</th>\n",
       "      <th>Gender</th>\n",
       "    </tr>\n",
       "  </thead>\n",
       "  <tbody>\n",
       "    <tr>\n",
       "      <th>0</th>\n",
       "      <td>Ali</td>\n",
       "      <td>34</td>\n",
       "      <td>Engineer</td>\n",
       "      <td>Laki-laki</td>\n",
       "    </tr>\n",
       "    <tr>\n",
       "      <th>1</th>\n",
       "      <td>Khalid</td>\n",
       "      <td>23</td>\n",
       "      <td>Data Scientist</td>\n",
       "      <td>Laki-laki</td>\n",
       "    </tr>\n",
       "    <tr>\n",
       "      <th>2</th>\n",
       "      <td>Aisyah</td>\n",
       "      <td>29</td>\n",
       "      <td>Designer</td>\n",
       "      <td>Perempuan</td>\n",
       "    </tr>\n",
       "    <tr>\n",
       "      <th>3</th>\n",
       "      <td>Suci</td>\n",
       "      <td>30</td>\n",
       "      <td>Dokter</td>\n",
       "      <td>Perempuan</td>\n",
       "    </tr>\n",
       "  </tbody>\n",
       "</table>\n",
       "</div>"
      ],
      "text/plain": [
       "     Nama  Usia       Pekerjaan     Gender\n",
       "0     Ali    34        Engineer  Laki-laki\n",
       "1  Khalid    23  Data Scientist  Laki-laki\n",
       "2  Aisyah    29        Designer  Perempuan\n",
       "3    Suci    30          Dokter  Perempuan"
      ]
     },
     "execution_count": 8,
     "metadata": {},
     "output_type": "execute_result"
    }
   ],
   "source": [
    "import pandas as pd\n",
    "\n",
    "# Membuat DataFrame Pandas\n",
    "data_pandas = {\"Nama\": [\"Ali\", \"Khalid\", \"Aisyah\", \"Suci\"], \"Usia\": [34, 23, 29, 30]}\n",
    "df_pandas = pd.DataFrame(data_pandas)\n",
    "\n",
    "# Menambahkan kolom baru\n",
    "df_pandas[\"Pekerjaan\"] = [\"Engineer\", \"Data Scientist\", \"Designer\", \"Dokter\"]\n",
    "df_pandas[\"Gender\"] = [\"Laki-laki\", \"Laki-laki\", \"Perempuan\", \"Perempuan\"]\n",
    "\n",
    "# Menampilkan DataFrame yang sudah dimodifikasi\n",
    "df_pandas\n",
    "\n",
    "# Melakukan filtering data berdasarkan usia > 25\n",
    "df_filtered = df_pandas[df_pandas[\"Usia\"] > 25]\n",
    "\n",
    "# Menampilkan DataFrame yang sudah difilter\n",
    "print(\"Karyawan berumur diatas 25 tahun: \")\n",
    "print(df_filtered)\n",
    "df_pandas"
   ]
  },
  {
   "cell_type": "markdown",
   "id": "c0042b2b",
   "metadata": {
    "id": "c0042b2b"
   },
   "source": [
    "## 5. Praktik Pandas Lanjutan\n",
    "**Penggunaan Pandas untuk operasi lebih kompleks.**"
   ]
  },
  {
   "cell_type": "markdown",
   "id": "884ed75d",
   "metadata": {
    "id": "884ed75d"
   },
   "source": [
    "- **Tugas 4**: Lakukan penggabungan DataFrame dan visualisasikan data dengan Pandas."
   ]
  },
  {
   "cell_type": "code",
   "execution_count": 9,
   "id": "e7a8142f",
   "metadata": {
    "id": "e7a8142f"
   },
   "outputs": [
    {
     "name": "stdout",
     "output_type": "stream",
     "text": [
      "DataFrame setelah penggabungan:\n",
      "     Nama  Usia Pekerjaan\n",
      "0     Ali    34    Dokter\n",
      "1  Khalid    23      Guru\n",
      "2  Aisyah    29  Insinyur\n",
      "3    Suci    30   Perawat\n",
      "\n",
      "Statistik deskriptif DataFrame:\n",
      "            Usia\n",
      "count   4.000000\n",
      "mean   29.000000\n",
      "std     4.546061\n",
      "min    23.000000\n",
      "25%    27.500000\n",
      "50%    29.500000\n",
      "75%    31.000000\n",
      "max    34.000000\n"
     ]
    },
    {
     "data": {
      "image/png": "[encoded data removed]",
      "text/plain": [
       "<Figure size 640x480 with 1 Axes>"
      ]
     },
     "metadata": {},
     "output_type": "display_data"
    },
    {
     "data": {
      "image/png": "[encoded data removed]",
      "text/plain": [
       "<Figure size 640x480 with 1 Axes>"
      ]
     },
     "metadata": {},
     "output_type": "display_data"
    }
   ],
   "source": [
    "import pandas as pd\n",
    "\n",
    "# Membuat DataFrame pertama\n",
    "data_pandas = {\"Nama\": [\"Ali\", \"Khalid\", \"Aisyah\", \"Suci\"], \"Usia\": [34, 23, 29, 30]}\n",
    "df_pandas = pd.DataFrame(data_pandas)\n",
    "\n",
    "# Membuat DataFrame kedua\n",
    "data_pandas_2 = {\"Nama\": [\"Ali\", \"Khalid\", \"Aisyah\", \"Suci\"], \"Pekerjaan\": [\"Dokter\", \"Guru\", \"Insinyur\", \"Perawat\"]}\n",
    "df_pandas_2 = pd.DataFrame(data_pandas_2)\n",
    "\n",
    "# Join antara dua DataFrame\n",
    "df_joined = pd.merge(df_pandas, df_pandas_2, on=\"Nama\")\n",
    "print(\"DataFrame setelah penggabungan:\")\n",
    "print(df_joined)\n",
    "\n",
    "# Menghitung statistik deskriptif\n",
    "print(\"\\nStatistik deskriptif DataFrame:\")\n",
    "print(df_pandas.describe())\n",
    "\n",
    "# Plotting Data\n",
    "import matplotlib.pyplot as plt\n",
    "df_pandas['Usia'].plot(kind='bar')\n",
    "plt.show()\n",
    "\n",
    "# Plotting Data\n",
    "df_pandas['Usia'].plot(kind='bar', color='skyblue')\n",
    "plt.title(\"Distribusi Usia\")\n",
    "plt.xlabel(\"Nama\")\n",
    "plt.ylabel(\"Usia\")\n",
    "plt.xticks(range(len(df_pandas['Nama'])), df_pandas['Nama'], rotation=0)\n",
    "plt.show()"
   ]
  },
  {
   "cell_type": "markdown",
   "id": "bf671ba3",
   "metadata": {
    "id": "bf671ba3"
   },
   "source": [
    "## 6. Menggabungkan PySpark dan Pandas\n",
    "**Mengonversi DataFrame antara PySpark dan Pandas**"
   ]
  },
  {
   "cell_type": "code",
   "execution_count": 10,
   "id": "337e123f",
   "metadata": {
    "id": "337e123f"
   },
   "outputs": [
    {
     "name": "stdout",
     "output_type": "stream",
     "text": [
      "+------+----+\n",
      "|  Nama|Usia|\n",
      "+------+----+\n",
      "|   Ali|  34|\n",
      "|Khalid|  23|\n",
      "|Aisyah|  29|\n",
      "|  Suci|  30|\n",
      "+------+----+\n",
      "\n"
     ]
    },
    {
     "data": {
      "text/plain": [
       "(     Nama  Usia       Pekerjaan       Hobi     Gender\n",
       " 0     Ali    34        Engineer  Bersepeda  Laki-laki\n",
       " 1  Khalid    23  Data Scientist    Memasak  Laki-laki\n",
       " 2  Aisyah    29        Designer    Melukis  Perempuan\n",
       " 3    Suci    30          Dokter    Membaca  Perempuan,\n",
       " None)"
      ]
     },
     "execution_count": 10,
     "metadata": {},
     "output_type": "execute_result"
    }
   ],
   "source": [
    "# Mengonversi DataFrame dari PySpark ke Pandas\n",
    "df_pandas_from_spark = df.toPandas()\n",
    "\n",
    "# Mengonversi DataFrame dari Pandas ke PySpark\n",
    "df_spark_from_pandas = spark.createDataFrame(df_pandas)\n",
    "\n",
    "# Menampilkan DataFrame hasil konversi\n",
    "df_pandas_from_spark, df_spark_from_pandas.show()"
   ]
  },
  {
   "cell_type": "markdown",
   "id": "2cba4e5c",
   "metadata": {
    "id": "2cba4e5c"
   },
   "source": [
    "- **Tugas 5**: Gunakan metode ini untuk menggabungkan data yang Anda buat di PySpark dengan data dari Pandas, kemudian lakukan analisis sederhana seperti menghitung rata-rata usia."
   ]
  },
  {
   "cell_type": "code",
   "execution_count": 11,
   "id": "DdgmUHJUfayi",
   "metadata": {
    "id": "DdgmUHJUfayi"
   },
   "outputs": [
    {
     "name": "stdout",
     "output_type": "stream",
     "text": [
      "     Nama  Usia Pekerjaan\n",
      "0     Ali    34    Dokter\n",
      "1  Khalid    23      Guru\n",
      "2  Aisyah    29  Insinyur\n",
      "3    Suci    30   Perawat\n",
      "+------+----+---------+\n",
      "|  Nama|Usia|Pekerjaan|\n",
      "+------+----+---------+\n",
      "|   Ali|  34|   Dokter|\n",
      "|Khalid|  23|     Guru|\n",
      "|Aisyah|  29| Insinyur|\n",
      "|  Suci|  30|  Perawat|\n",
      "+------+----+---------+\n",
      "\n",
      "+---------+\n",
      "|avg(Usia)|\n",
      "+---------+\n",
      "|     29.0|\n",
      "+---------+\n",
      "\n"
     ]
    }
   ],
   "source": [
    "import pandas as pd\n",
    "# Mengonversi DataFrame dari PySpark ke Pandas\n",
    "df_pandas_from_spark = df_karyawan.toPandas()\n",
    "\n",
    "# Mengonversi DataFrame Dari PySpark ke Pandas\n",
    "df_pandas_from_spark = df.toPandas()\n",
    "\n",
    "# Menggabungkan antara dua DataFrame\n",
    "df_joined = pd.merge(df_pandas, df_pandas_2, on=\"Nama\")\n",
    "print(df_joined)\n",
    "\n",
    "#Mengonversi hasil gabungan\n",
    "df_spark_from_pandas = spark.createDataFrame(df_joined)\n",
    "df_spark_from_pandas.show()\n",
    "\n",
    "# Menghitung rata-rata usia\n",
    "df_spark_from_pandas.groupBy().agg(avg(\"Usia\")).show()"
   ]
  },
  {
   "cell_type": "markdown",
   "id": "afdba6be",
   "metadata": {
    "id": "afdba6be"
   },
   "source": [
    "## 7. Konversi Data antara PySpark dan Pandas"
   ]
  },
  {
   "cell_type": "markdown",
   "id": "65adbe71",
   "metadata": {
    "id": "65adbe71"
   },
   "source": [
    "- **Tugas 6**: Gabungkan data dari PySpark dan Pandas, lalu lakukan operasi statistik seperti menghitung nilai maksimum usia."
   ]
  },
  {
   "cell_type": "code",
   "execution_count": 12,
   "id": "f863defc",
   "metadata": {
    "id": "f863defc"
   },
   "outputs": [
    {
     "name": "stdout",
     "output_type": "stream",
     "text": [
      "Hasil dari gabungan DataFrame: \n",
      "     Nama  Usia     Pekerjaan_x       Hobi     Gender Pekerjaan_y\n",
      "0     Ali    34        Engineer  Bersepeda  Laki-laki      Dokter\n",
      "1  Khalid    23  Data Scientist    Memasak  Laki-laki        Guru\n",
      "2  Aisyah    29        Designer    Melukis  Perempuan    Insinyur\n",
      "3    Suci    30          Dokter    Membaca  Perempuan     Perawat\n",
      "\n",
      "Nilai maksimum usia: \n",
      "Nama                Suci\n",
      "Usia                  34\n",
      "Pekerjaan_x     Engineer\n",
      "Hobi             Membaca\n",
      "Gender         Perempuan\n",
      "Pekerjaan_y      Perawat\n",
      "dtype: object\n"
     ]
    }
   ],
   "source": [
    "# Mengonversi DataFrame dari PySpark ke Pandas\n",
    "df_pandas_from_spark = df.toPandas()\n",
    "\n",
    "# Mengonversi DataFrame dari Pandas ke PySpark\n",
    "df_spark_from_pandas = spark.createDataFrame(df_pandas)\n",
    "\n",
    "# Menggabungkan dua DataFrame Pandas\n",
    "df_joined = pd.merge(df_pandas_from_spark, df_pandas_2, on=\"Nama\")\n",
    "\n",
    "# Menampilkan DataFrame hasil penggabungan\n",
    "print(\"Hasil dari gabungan DataFrame: \")\n",
    "print(df_joined)\n",
    "\n",
    "# Menghitung nilai maksimum usia\n",
    "print(\"\\nNilai maksimum usia: \")\n",
    "print(df_joined.max())"
   ]
  }
 ],
 "metadata": {
  "colab": {
   "provenance": []
  },
  "kernelspec": {
   "display_name": "Python 3 (ipykernel)",
   "language": "python",
   "name": "python3"
  },
  "language_info": {
   "codemirror_mode": {
    "name": "ipython",
    "version": 3
   },
   "file_extension": ".py",
   "mimetype": "text/x-python",
   "name": "python",
   "nbconvert_exporter": "python",
   "pygments_lexer": "ipython3",
   "version": "3.11.9"
  }
 },
 "nbformat": 4,
 "nbformat_minor": 5
}
